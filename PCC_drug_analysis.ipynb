{
 "cells": [
  {
   "cell_type": "code",
   "execution_count": 24,
   "id": "22471e9c-5a62-4027-9bb5-20fdfeb04a04",
   "metadata": {},
   "outputs": [
    {
     "name": "stdout",
     "output_type": "stream",
     "text": [
      "0     -1.463887\n",
      "1     -4.869455\n",
      "2     -3.360586\n",
      "3     -5.044940\n",
      "4     -3.741991\n",
      "         ...   \n",
      "962   -0.914349\n",
      "963   -1.612538\n",
      "964    1.343563\n",
      "965    0.073547\n",
      "966   -2.421554\n",
      "Name: IC50, Length: 967, dtype: float64\n",
      "0      0.930220\n",
      "1      0.614970\n",
      "2      0.791072\n",
      "3      0.592660\n",
      "4      0.734047\n",
      "         ...   \n",
      "962    0.947598\n",
      "963    0.898987\n",
      "964    0.984610\n",
      "965    0.984230\n",
      "966    0.835886\n",
      "Name: AUC, Length: 967, dtype: float64\n",
      "0     -1.361737\n",
      "1     -2.994567\n",
      "2     -2.658464\n",
      "3     -2.989936\n",
      "4     -2.746798\n",
      "         ...   \n",
      "962   -0.866436\n",
      "963   -1.449651\n",
      "964    1.322886\n",
      "965    0.072387\n",
      "966   -2.024143\n",
      "Name: x_mult_y, Length: 967, dtype: float64\n"
     ]
    }
   ],
   "source": [
    "import pandas as pd\n",
    "import math as m\n",
    "import numpy as np\n",
    "full_drug=pd.read_csv('drug_data.csv')\n",
    "campto=full_drug[0:967]\n",
    "x_sum=campto['IC50'].sum() #rename to the rows you want \n",
    "y_sum=campto['AUC'].sum() #rename\n",
    "print(campto['IC50'])\n",
    "print(campto['AUC'])\n",
    "#Total of all x**2 and y**2\n",
    "campto.insert(2,'IC50 sq',[i**2 for i in campto['IC50']],True)\n",
    "campto.insert(3,'AUC sq',[i**2 for i in campto['AUC']],True)\n",
    "\n",
    "xsq_sum=campto['IC50 sq'].sum()\n",
    "ysq_sum=campto['AUC sq'].sum()\n",
    "\n",
    "#Total of all x*y\n",
    "campto.insert(4,'x_mult_y',campto['IC50']*campto['AUC'],True)\n",
    "x_mult_y=campto['x_mult_y'].sum()\n",
    "print(campto['x_mult_y'])\n",
    "#Calulate r in pearson correlation equation.\n",
    "\n",
    "#def pearson(xsum,ysum,xsqsum,ysqsum,xmult_y):\n",
    "#\tr=((10*(xmult_y)-((xsum)*(ysum)))/m.sqrt((xsqsum-(xsum)**2)*(ysqsum-(ysum)**2)))\n",
    "#\treturn r\n",
    "#print(pearson(x_sum,y_sum,xsq_sum,ysq_sum,x_mult_y))"
   ]
  },
  {
   "cell_type": "code",
   "execution_count": 16,
   "id": "c591279c-7a87-49ab-a025-f42d018e7241",
   "metadata": {},
   "outputs": [
    {
     "name": "stdout",
     "output_type": "stream",
     "text": [
      "0.9900974627274262\n"
     ]
    }
   ],
   "source": [
    "cis=full_drug[968:1709]\n",
    "x_sum=cis['IC50'].sum() #rename to the rows you want \n",
    "y_sum=cis['AUC'].sum() #rename\n",
    "\n",
    "#Total of all x**2 and y**2\n",
    "cis.insert(2,'IC50 sq',[i**2 for i in cis['IC50']],True)\n",
    "cis.insert(3,'AUC sq',[i**2 for i in cis['AUC']],True)\n",
    "xsq_sum=cis['IC50 sq'].sum()\n",
    "ysq_sum=cis['AUC sq'].sum()\n",
    "\n",
    "#Total of all x*y\n",
    "cis.insert(4,'x_mult_y',cis['IC50']*cis['AUC'],True)\n",
    "x_mult_y=cis['x_mult_y'].sum()\n",
    "\n",
    "#Calulate r in pearson correlation equation.\n",
    "\n",
    "def pearson(xsum,ysum,xsqsum,ysqsum,xmult_y):\n",
    "\tr=((10*(xmult_y)-((xsum)*(ysum)))/m.sqrt((xsqsum-(xsum)**2)*(ysqsum-(ysum)**2)))\n",
    "\treturn r\n",
    "print(pearson(x_sum,y_sum,xsq_sum,ysq_sum,x_mult_y))"
   ]
  },
  {
   "cell_type": "code",
   "execution_count": 17,
   "id": "e97289a9-b4ae-470d-8792-c41af816ca0d",
   "metadata": {},
   "outputs": [
    {
     "name": "stdout",
     "output_type": "stream",
     "text": [
      "-0.9878441771733648\n"
     ]
    }
   ],
   "source": [
    "cis=full_drug[1710:2468]\n",
    "x_sum=cis['IC50'].sum() #rename to the rows you want \n",
    "y_sum=cis['AUC'].sum() #rename\n",
    "\n",
    "#Total of all x**2 and y**2\n",
    "cis.insert(2,'IC50 sq',[i**2 for i in cis['IC50']],True)\n",
    "cis.insert(3,'AUC sq',[i**2 for i in cis['AUC']],True)\n",
    "xsq_sum=cis['IC50 sq'].sum()\n",
    "ysq_sum=cis['AUC sq'].sum()\n",
    "\n",
    "#Total of all x*y\n",
    "cis.insert(4,'x_mult_y',cis['IC50']*cis['AUC'],True)\n",
    "x_mult_y=cis['x_mult_y'].sum()\n",
    "\n",
    "#Calulate r in pearson correlation equation.\n",
    "\n",
    "def pearson(xsum,ysum,xsqsum,ysqsum,xmult_y):\n",
    "\tr=((10*(xmult_y)-((xsum)*(ysum)))/m.sqrt((xsqsum-(xsum)**2)*(ysqsum-(ysum)**2)))\n",
    "\treturn r\n",
    "print(pearson(x_sum,y_sum,xsq_sum,ysq_sum,x_mult_y))"
   ]
  },
  {
   "cell_type": "code",
   "execution_count": 18,
   "id": "8d8adee1-4574-496b-8622-2a358a397bde",
   "metadata": {},
   "outputs": [
    {
     "name": "stdout",
     "output_type": "stream",
     "text": [
      "-0.986224252042642\n"
     ]
    }
   ],
   "source": [
    "cyt=full_drug[2469:3211]\n",
    "x_sum=cyt['IC50'].sum() #rename to the rows you want \n",
    "y_sum=cyt['AUC'].sum() #rename\n",
    "\n",
    "#Total of all x**2 and y**2\n",
    "cyt.insert(2,'IC50 sq',[i**2 for i in cyt['IC50']],True)\n",
    "cyt.insert(3,'AUC sq',[i**2 for i in cyt['AUC']],True)\n",
    "xsq_sum=cyt['IC50 sq'].sum()\n",
    "ysq_sum=cyt['AUC sq'].sum()\n",
    "\n",
    "#Total of all x*y\n",
    "cyt.insert(4,'x_mult_y',cyt['IC50']*cyt['AUC'],True)\n",
    "x_mult_y=cyt['x_mult_y'].sum()\n",
    "\n",
    "#Calulate r in pearson correlation equation.\n",
    "\n",
    "def pearson(xsum,ysum,xsqsum,ysqsum,xmult_y):\n",
    "\tr=((10*(xmult_y)-((xsum)*(ysum)))/m.sqrt((xsqsum-(xsum)**2)*(ysqsum-(ysum)**2)))\n",
    "\treturn r\n",
    "print(pearson(x_sum,y_sum,xsq_sum,ysq_sum,x_mult_y))"
   ]
  },
  {
   "cell_type": "code",
   "execution_count": 19,
   "id": "f4fda531-a36b-490f-bc61-38c529803f47",
   "metadata": {},
   "outputs": [
    {
     "name": "stdout",
     "output_type": "stream",
     "text": [
      "0.9911139508959128\n"
     ]
    }
   ],
   "source": [
    "doc=full_drug[3212:4178]\n",
    "x_sum=doc['IC50'].sum() #rename to the rows you want \n",
    "y_sum=doc['AUC'].sum() #rename\n",
    "\n",
    "#Total of all x**2 and y**2\n",
    "doc.insert(2,'IC50 sq',[i**2 for i in doc['IC50']],True)\n",
    "doc.insert(3,'AUC sq',[i**2 for i in doc['AUC']],True)\n",
    "xsq_sum=doc['IC50 sq'].sum()\n",
    "ysq_sum=doc['AUC sq'].sum()\n",
    "\n",
    "#Total of all x*y\n",
    "doc.insert(4,'x_mult_y',doc['IC50']*doc['AUC'],True)\n",
    "x_mult_y=doc['x_mult_y'].sum()\n",
    "\n",
    "#Calulate r in pearson correlation equation.\n",
    "\n",
    "def pearson(xsum,ysum,xsqsum,ysqsum,xmult_y):\n",
    "\tr=((10*(xmult_y)-((xsum)*(ysum)))/m.sqrt((xsqsum-(xsum)**2)*(ysqsum-(ysum)**2)))\n",
    "\treturn r\n",
    "print(pearson(x_sum,y_sum,xsq_sum,ysq_sum,x_mult_y))"
   ]
  },
  {
   "cell_type": "code",
   "execution_count": 20,
   "id": "896b3e68-8732-4304-8cd2-206cbf4e20e7",
   "metadata": {},
   "outputs": [
    {
     "name": "stdout",
     "output_type": "stream",
     "text": [
      "-1.001831825292842\n"
     ]
    }
   ],
   "source": [
    "met=full_drug[4179:5059]\n",
    "x_sum=met['IC50'].sum() #rename to the rows you want \n",
    "y_sum=met['AUC'].sum() #rename\n",
    "\n",
    "#Total of all x**2 and y**2\n",
    "met.insert(2,'IC50 sq',[i**2 for i in met['IC50']],True)\n",
    "met.insert(3,'AUC sq',[i**2 for i in met['AUC']],True)\n",
    "xsq_sum=met['IC50 sq'].sum()\n",
    "ysq_sum=met['AUC sq'].sum()\n",
    "\n",
    "#Total of all x*y\n",
    "met.insert(4,'x_mult_y',met['IC50']*met['AUC'],True)\n",
    "x_mult_y=met['x_mult_y'].sum()\n",
    "\n",
    "#Calulate r in pearson correlation equation.\n",
    "\n",
    "def pearson(xsum,ysum,xsqsum,ysqsum,xmult_y):\n",
    "\tr=((10*(xmult_y)-((xsum)*(ysum)))/m.sqrt((xsqsum-(xsum)**2)*(ysqsum-(ysum)**2)))\n",
    "\treturn r\n",
    "print(pearson(x_sum,y_sum,xsq_sum,ysq_sum,x_mult_y))"
   ]
  },
  {
   "cell_type": "code",
   "execution_count": 9,
   "id": "1aeec2d1-0489-442f-8cff-fb67ddec6572",
   "metadata": {},
   "outputs": [],
   "source": [
    "tret=full_drug[5060:5284]"
   ]
  },
  {
   "cell_type": "code",
   "execution_count": 10,
   "id": "609fa9e6-94ed-4667-8396-ae29190f44e2",
   "metadata": {},
   "outputs": [],
   "source": [
    "get=full_drug[5285:6242]"
   ]
  },
  {
   "cell_type": "code",
   "execution_count": 11,
   "id": "062b41cb-0c35-4a55-a459-505c7cf81f77",
   "metadata": {},
   "outputs": [],
   "source": [
    "nav=full_drug[6243:7209]"
   ]
  },
  {
   "cell_type": "code",
   "execution_count": 12,
   "id": "741c35a2-c9ff-4097-a725-a51ef68f21ba",
   "metadata": {},
   "outputs": [],
   "source": [
    "vor=full_drug[7210:8168]"
   ]
  },
  {
   "cell_type": "code",
   "execution_count": 13,
   "id": "6b6a6646-aad5-4a4b-926e-e35f54f78a4f",
   "metadata": {},
   "outputs": [],
   "source": [
    "nil=full_drug[8169:9123]"
   ]
  },
  {
   "cell_type": "code",
   "execution_count": null,
   "id": "fcd40c52-5125-4cc5-bf72-30d3bd752598",
   "metadata": {},
   "outputs": [],
   "source": []
  }
 ],
 "metadata": {
  "kernelspec": {
   "display_name": "Python 3 (ipykernel)",
   "language": "python",
   "name": "python3"
  },
  "language_info": {
   "codemirror_mode": {
    "name": "ipython",
    "version": 3
   },
   "file_extension": ".py",
   "mimetype": "text/x-python",
   "name": "python",
   "nbconvert_exporter": "python",
   "pygments_lexer": "ipython3",
   "version": "3.10.12"
  }
 },
 "nbformat": 4,
 "nbformat_minor": 5
}
